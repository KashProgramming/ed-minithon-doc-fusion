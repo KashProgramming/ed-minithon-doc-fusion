{
 "cells": [
  {
   "cell_type": "code",
   "execution_count": 1,
   "metadata": {},
   "outputs": [],
   "source": [
    "import fitz\n",
    "import pytesseract\n",
    "from PIL import Image\n",
    "import io\n",
    "import camelot\n",
    "import pandas as pd"
   ]
  },
  {
   "cell_type": "code",
   "execution_count": 29,
   "metadata": {},
   "outputs": [],
   "source": [
    "def extract_pdf_content(pdf_file):\n",
    "    \"\"\"\n",
    "    Will be used to extract text, images and tables from a pdf document\n",
    "    Will also be used to extract text, images and tables from a scanned PDF using OCR\n",
    "    \"\"\"\n",
    "\n",
    "    pdf_content = {\n",
    "        \"text\": [],\n",
    "        \"images\": [],\n",
    "        \"tables\": []\n",
    "    }\n",
    "\n",
    "    document = fitz.open(pdf_file)\n",
    "\n",
    "    for page_num, page in enumerate(document):\n",
    "        page_text = page.get_text() # extracting text from the pdf\n",
    "        if page_text.strip():  # If text exists, PDF is processed as text-based\n",
    "            try: # extracting tables as pdfs and appending to the list in dictionary\n",
    "                tables = camelot.read_pdf(pdf_file,pages=str(page_num+1),flavor=\"lattice\")\n",
    "                for table in tables:\n",
    "                    df = pd.DataFrame(table.df.values)\n",
    "                    df.columns = df.iloc[0]  # setting the first row as column headers\n",
    "                    df = df.drop(0).reset_index(drop=True)\n",
    "                    pdf_content[\"tables\"].append(df)\n",
    "                    # Extract the raw table text and remove it from the page text\n",
    "                    # table_text = \"\\n\".join([\"\\t\".join(map(str, row)) for row in table.df.values])\n",
    "                    # page_text = page_text.replace(table_text, \"\")\n",
    "            except Exception as e:\n",
    "                print(f\"No tables found on page {page_num+1}: {e}\")\n",
    "            pdf_content[\"text\"].append(page_text)\n",
    "\n",
    "            for img_index, img in enumerate(page.get_images(full=True)): # extracting images from \n",
    "                xref = img[0]\n",
    "                base_image = document.extract_image(xref)\n",
    "                img_bytes = base_image[\"image\"]\n",
    "                img_extension = base_image[\"ext\"]  # to get image format to preserve transparency if needed\n",
    "                # Load the image with Pillow\n",
    "                image = Image.open(io.BytesIO(img_bytes))\n",
    "                # Preserve transparency if the image has an alpha channel\n",
    "                if image.mode in (\"RGBA\", \"LA\"):\n",
    "                    image = image.convert(\"RGBA\")\n",
    "                else:\n",
    "                    image = image.convert(\"RGB\")\n",
    "                # Save the image in its original format\n",
    "                img_filename = f\"{pdf_file}_page{page_num+1}_img{img_index+1}.{img_extension}\"\n",
    "                image.save(img_filename, format=img_extension.upper())\n",
    "                pdf_content[\"images\"].append(img_filename)\n",
    "        else:\n",
    "            # If no text, process as scanned PDF using OCR\n",
    "            pix = page.get_pixmap()  # Render page to an image\n",
    "            img = Image.open(io.BytesIO(pix.tobytes()))\n",
    "            ocr_text = pytesseract.image_to_string(img)\n",
    "            pdf_content[\"text\"].append(ocr_text)\n",
    "    document.close()\n",
    "    return pdf_content"
   ]
  },
  {
   "cell_type": "code",
   "execution_count": 35,
   "metadata": {},
   "outputs": [],
   "source": [
    "# Example usage\n",
    "pdf_file = \"/Users/kashishmandhane/Documents/Kashish Data/LAPTOP STUFF/DJ Sanghvi College/Extra-curriculars/Hackathons/Ed-tech/test_file.pdf\""
   ]
  },
  {
   "cell_type": "code",
   "execution_count": 36,
   "metadata": {},
   "outputs": [
    {
     "data": {
      "text/plain": [
       "{'text': ['My name is Kashish, YAY!!! \\nLol, this is so fun, hahahaha! \\n \\n \\n \\n \\nName \\nis \\nKashish \\nA  \\ntest \\ntable \\ntext \\nAnd  \\ntable \\nand \\nPyMuPDF \\nlol \\n \\n \\nHi \\nBye \\nMy \\nName \\nis \\nKashish \\nMandhane \\nthis \\nis \\nA  \\ntest \\ntable \\nto \\ncheck \\nfor \\ntext \\nAnd  \\ntable \\nextraction \\nUsing  \\ncamelot \\nand \\nPyMuPDF \\nlol \\n \\n \\nHi \\nBye \\nMy \\nMandhane \\nthis \\nis \\nto \\ncheck \\nfor \\nextraction \\nUsing  \\ncamelot \\n \\n'],\n",
       " 'images': ['/Users/kashishmandhane/Documents/Kashish Data/LAPTOP STUFF/DJ Sanghvi College/Extra-curriculars/Hackathons/Ed-tech/test_file.pdf_page1_img1.png',\n",
       "  '/Users/kashishmandhane/Documents/Kashish Data/LAPTOP STUFF/DJ Sanghvi College/Extra-curriculars/Hackathons/Ed-tech/test_file.pdf_page1_img2.png'],\n",
       " 'tables': [0  Name       is Kashish\n",
       "  0     A     test   table\n",
       "  1  text      And   table\n",
       "  2   and  PyMuPDF     lol,\n",
       "  0          Hi    Bye       My  Name       is Kashish\n",
       "  0    Mandhane   this       is     A     test   table\n",
       "  1          to  check      for  text      And   table\n",
       "  2  extraction  Using  camelot   and  PyMuPDF     lol,\n",
       "  0          Hi    Bye       My\n",
       "  0    Mandhane   this       is\n",
       "  1          to  check      for\n",
       "  2  extraction  Using  camelot]}"
      ]
     },
     "execution_count": 36,
     "metadata": {},
     "output_type": "execute_result"
    }
   ],
   "source": [
    "extract_pdf_content(pdf_file)"
   ]
  },
  {
   "cell_type": "code",
   "execution_count": null,
   "metadata": {},
   "outputs": [],
   "source": []
  }
 ],
 "metadata": {
  "kernelspec": {
   "display_name": "Python 3",
   "language": "python",
   "name": "python3"
  },
  "language_info": {
   "codemirror_mode": {
    "name": "ipython",
    "version": 3
   },
   "file_extension": ".py",
   "mimetype": "text/x-python",
   "name": "python",
   "nbconvert_exporter": "python",
   "pygments_lexer": "ipython3",
   "version": "3.12.3"
  }
 },
 "nbformat": 4,
 "nbformat_minor": 2
}
