{
 "cells": [
  {
   "cell_type": "code",
   "execution_count": 3,
   "metadata": {},
   "outputs": [],
   "source": [
    "from pptx import Presentation\n",
    "\n"
   ]
  },
  {
   "cell_type": "code",
   "execution_count": 4,
   "metadata": {},
   "outputs": [],
   "source": [
    "def extract_text_from_pptx(file_path):\n",
    "    prs = Presentation(file_path)\n",
    "    text = []\n",
    "    \n",
    "    for slide in prs.slides:\n",
    "        slide_text = []\n",
    "        \n",
    "        for shape in slide.shapes:\n",
    "            if shape.has_text_frame:\n",
    "                for paragraph in shape.text_frame.paragraphs:\n",
    "                    paragraph_text = \" \".join(run.text for run in paragraph.runs)\n",
    "                    slide_text.append(paragraph_text)\n",
    "        if slide_text:\n",
    "            text.append(\"\\n\".join(slide_text))\n",
    "    \n",
    "    return \"\\n\\n\".join(text)\n",
    "\n",
    "\n"
   ]
  },
  {
   "cell_type": "code",
   "execution_count": 7,
   "metadata": {},
   "outputs": [
    {
     "name": "stdout",
     "output_type": "stream",
     "text": [
      "FEDNEXT (a  Dynamic Routing System for logistics)\n",
      "Team  Hackanomaly\n",
      "Mehika  JHAVERI (CAPTAIN)\n",
      "KASHISH MANDHANE\n",
      "MEGH DAVE\n",
      "\n",
      "Problem Statement\n",
      "\n",
      "Idea/Solution/Prototype\n",
      "\n",
      "1 .  Idea  Develop a dynamic routing system that leverages real-time traffic, weather, and vehicle data to optimize delivery routes for logistics companies, enhancing efficiency and reducing environmental impact.\n",
      "\n",
      "2.  Solution:  Integrate multiple APIs, including Google Maps for routing, TomTom for traffic data, and AQICN for weather conditions, to provide users with the best route options and emissions estimates based on their vehicle specifications.\n",
      "\n",
      "3 . Prototype  Create a user-friendly web application that allows users to input vehicle details and destinations, dynamically displaying optimal routes on a map while providing real-time updates and emissions calculations.\n",
      "Solution Approach\n",
      "Real-Time Data Integration : Utilize APIs from Google Maps, TomTom, and AQICN to gather real-time traffic, weather, and route information. This integration enables the system to dynamically adjust routes based on current conditions, ensuring timely deliveries while minimizing delays.\n",
      "Smart Routing Algorithms : Develop intelligent algorithms that optimize delivery routes by considering factors such as traffic patterns, delivery schedules, and vehicle specifications. This approach reduces idle time and fuel consumption, enhancing overall operational efficiency for delivery personnel.\n",
      "Sustainability Metrics : Implement features that calculate CO2 emissions for each route and predict the number of trees required to offset this carbon footprint. By providing insights into environmental impact, the system reinforces the company's commitment to sustainability and encourages eco-friendly practices among drivers.\n",
      ".\n",
      "Smart Delivery System : Implement an intelligent routing system that optimizes delivery schedules using FedEx data of deliveries and making a model for it  it  will mainly focus on , reducing time spent in traffic and idle time at signals. This enhances driver productivity and decreases fuel consumption.\n",
      "Environmental Impact Tracking : Calculate CO2 emissions for each delivery route and predict the number of trees needed to offset this carbon footprint. This feature emphasizes the company's commitment to sustainability through its initiative,  FednExt ,  which focuses on planting trees and caring for the next gen\n",
      "Fuel Efficiency Insights : Provide drivers with insights into their fuel usage patterns, helping them adopt more efficient driving habits This can help company analyze their steps towards being environment friendly and   further reduce emissions.\n",
      "Innovation and Uniqueness\n",
      "\n",
      "Technical Approach\n",
      "\n",
      "\n",
      "\n",
      "\n",
      "\n",
      "Tech stack\n",
      "\n",
      "\n",
      "\n",
      "\n",
      "\n",
      "\n",
      "\n",
      "Methodology\n",
      "Front-End Development: Utilize HTML, CSS, JavaScript, and React to create a responsive and interactive user interface, allowing users to input data and view real-time results dynamically.\n",
      "Back-End Development: Implement Python with frameworks like Flask or Django to handle API requests, process data, and integrate machine learning models for route optimization and CO2 emissions calculations. Also used for performing ML  taks\n",
      "\n",
      "Incase  flowchart not visible\n",
      "\n",
      "\n",
      "Logic AND CALCULATIONS\n",
      "CO2 Emission Calculation\n",
      "Formula for CO2 Emissions:\n",
      "CO2 Emissions (in kg) is calculated using the following formula:\n",
      "CO2 Emissions (kg) = (Distance Traveled (km) ÷ Mileage (km/l)) × Carbon Factor (kg/km)\n",
      "Where:\n",
      "Distance Traveled: This is the total distance of the route in kilometers.\n",
      "Mileage: This represents the vehicle's fuel efficiency in kilometers per liter (km/l).\n",
      "Carbon Factor: This is the average emissions produced per kilometer for the specific fuel type, measured in kilograms per kilometer (kg/km).\n",
      "Tree Calculation\n",
      "Formula for Number of Trees:\n",
      "The number of trees required to absorb the calculated CO2 emissions is estimated using:\n",
      "Number of Trees = CO2 Emissions (kg) ÷ 22\n",
      "Explanation:\n",
      "This formula estimates how many mature trees are needed to offset the total CO2 emissions produced by the vehicle during its journey, assuming that one mature tree can absorb approximately 22 kg of CO2 per year.\n",
      "2. API Integrations\n",
      "Google Maps API:\n",
      "Route generation and distance calculations.\n",
      "Provides real-time traffic data.\n",
      "TomTom API:\n",
      "Live traffic information for optimizing delivery routes.\n",
      "AQICN API:\n",
      "Real-time weather data to inform drivers of potential delays.\n",
      "OSRM (Open Source Routing Machine):\n",
      "Efficient routing and distance calculations based on real-time data.\n",
      "3. Future Features and Data Analysis\n",
      "Logistic Regression for Dynamic Routing:\n",
      "Utilize logistic regression to analyze historical traffic data, enabling the system to predict optimal routes based on past patterns.\n",
      "This feature will enhance the efficiency of delivery routes by adapting to changing traffic conditions over time.\n",
      "\n",
      "Coding PART\n",
      "Git repository:  https://github.com/MEGH06/FedNext.git\n",
      "\n"
     ]
    }
   ],
   "source": [
    "file_path = r\"C:\\Users\\Megh\\Desktop\\2nd yr\\extra-curricular\\Hackathons\\PPT's and videos\\FEDNEXT.pptx\"\n",
    "text = extract_text_from_pptx(file_path)\n",
    "print(text)\n"
   ]
  },
  {
   "cell_type": "code",
   "execution_count": null,
   "metadata": {},
   "outputs": [],
   "source": []
  },
  {
   "cell_type": "code",
   "execution_count": null,
   "metadata": {},
   "outputs": [],
   "source": []
  },
  {
   "cell_type": "code",
   "execution_count": null,
   "metadata": {},
   "outputs": [],
   "source": []
  }
 ],
 "metadata": {
  "kernelspec": {
   "display_name": "Python 3",
   "language": "python",
   "name": "python3"
  },
  "language_info": {
   "codemirror_mode": {
    "name": "ipython",
    "version": 3
   },
   "file_extension": ".py",
   "mimetype": "text/x-python",
   "name": "python",
   "nbconvert_exporter": "python",
   "pygments_lexer": "ipython3",
   "version": "3.11.9"
  }
 },
 "nbformat": 4,
 "nbformat_minor": 2
}
